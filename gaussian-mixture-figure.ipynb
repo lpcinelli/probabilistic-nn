{
 "cells": [
  {
   "cell_type": "code",
   "execution_count": 3,
   "metadata": {},
   "outputs": [],
   "source": [
    "import numpy as np\n",
    "import scipy as sp\n",
    "import scipy.stats\n",
    "import matplotlib.pyplot as plt\n",
    "import seaborn as sns"
   ]
  },
  {
   "cell_type": "markdown",
   "metadata": {},
   "source": [
    "## Configure plot appearance"
   ]
  },
  {
   "cell_type": "code",
   "execution_count": 4,
   "metadata": {},
   "outputs": [],
   "source": [
    "sns.set('paper', 'white', 'colorblind', font_scale=2.2,\n",
    "        rc={'lines.linewidth': 2,\n",
    "            'figure.figsize': (12.0, 10.0),\n",
    "            'image.interpolation': 'nearest',\n",
    "            'image.cmap': 'gray',\n",
    "            'text.usetex' : True,\n",
    "            }\n",
    "        )"
   ]
  },
  {
   "cell_type": "markdown",
   "metadata": {},
   "source": [
    "## Base class for Gaussian mixture"
   ]
  },
  {
   "cell_type": "code",
   "execution_count": 5,
   "metadata": {},
   "outputs": [],
   "source": [
    "class GaussianMixture1D:\n",
    "    def __init__(self, mixture_probs, means, stds):\n",
    "        self.num_mixtures = len(mixture_probs)\n",
    "        self.mixture_probs = mixture_probs\n",
    "        self.means = means\n",
    "        self.stds = stds\n",
    "\n",
    "    def sample(self, num_samples=1):\n",
    "        mixture_ids = np.random.choice(self.num_mixtures, size=num_samples, p=self.mixture_probs)\n",
    "        result = np.zeros([num_samples])\n",
    "        for sample_idx in range(num_samples):\n",
    "            result[sample_idx] = np.random.normal(\n",
    "                loc=self.means[mixture_ids[sample_idx]],\n",
    "                scale=self.stds[mixture_ids[sample_idx]]\n",
    "            )\n",
    "        return result\n",
    "\n",
    "    def logpdf(self, samples):\n",
    "        try:\n",
    "            nb_samples = len(samples)\n",
    "        except:\n",
    "            nb_samples = 1\n",
    "        mixture_logpdfs = np.zeros([nb_samples, self.num_mixtures])\n",
    "        for mixture_idx in range(self.num_mixtures):\n",
    "            mixture_logpdfs[:, mixture_idx] = scipy.stats.norm.logpdf(\n",
    "                samples,\n",
    "                loc=self.means[mixture_idx],\n",
    "                scale=self.stds[mixture_idx]\n",
    "            )\n",
    "        return sp.special.logsumexp(mixture_logpdfs + np.log(self.mixture_probs), axis=1)\n",
    "\n",
    "    def pdf(self, samples):\n",
    "        return np.exp(self.logpdf(samples))\n"
   ]
  },
  {
   "cell_type": "markdown",
   "metadata": {},
   "source": [
    "## Utility functions"
   ]
  },
  {
   "cell_type": "code",
   "execution_count": 6,
   "metadata": {},
   "outputs": [],
   "source": [
    "def approx_kl(gmm_1, gmm_2, xs):\n",
    "    ys = gmm_1.pdf(xs) * (gmm_1.logpdf(xs) - gmm_2.logpdf(xs))\n",
    "    return np.trapz(ys, xs)\n",
    "\n",
    "\n",
    "def minimize_pq(p, xs, q_means, q_stds):\n",
    "    q_mean_best = None\n",
    "    q_std_best = None\n",
    "    kl_best = np.inf\n",
    "    for q_mean in q_means:\n",
    "        for q_std in q_stds:\n",
    "            q = GaussianMixture1D(np.array([1]), np.array([q_mean]), np.array([q_std]))\n",
    "            kl = approx_kl(p, q, xs)\n",
    "            if kl < kl_best:\n",
    "                kl_best = kl\n",
    "                q_mean_best = q_mean\n",
    "                q_std_best = q_std\n",
    "\n",
    "    q_best = GaussianMixture1D(np.array([1]), np.array([q_mean_best]), np.array([q_std_best]))\n",
    "    return q_best, kl_best\n",
    "\n",
    "\n",
    "def minimize_qp(p, xs, q_means, q_stds):\n",
    "    q_mean_best = None\n",
    "    q_std_best = None\n",
    "    kl_best = np.inf\n",
    "    for q_mean in q_means:\n",
    "        for q_std in q_stds:\n",
    "            q = GaussianMixture1D(np.array([1]), np.array([q_mean]), np.array([q_std]))\n",
    "            kl = approx_kl(q, p, xs)\n",
    "            if kl < kl_best:\n",
    "                kl_best = kl\n",
    "                q_mean_best = q_mean\n",
    "                q_std_best = q_std\n",
    "\n",
    "    q_best = GaussianMixture1D(np.array([1]), np.array([q_mean_best]), np.array([q_std_best]))\n",
    "    return q_best, kl_best"
   ]
  },
  {
   "cell_type": "markdown",
   "metadata": {},
   "source": [
    "## Configure what to plot"
   ]
  },
  {
   "cell_type": "code",
   "execution_count": 7,
   "metadata": {},
   "outputs": [],
   "source": [
    "p_second_means_min = 0\n",
    "p_second_means_max = 10\n",
    "num_p_second_means = 3\n",
    "p_second_mean_list = np.linspace(p_second_means_min, p_second_means_max, num_p_second_means)\n",
    "# p_second_mean_list = np.array([0, ])"
   ]
  },
  {
   "cell_type": "markdown",
   "metadata": {},
   "source": [
    "## Plot curves"
   ]
  },
  {
   "cell_type": "code",
   "execution_count": 28,
   "metadata": {},
   "outputs": [
    {
     "data": {
      "text/plain": [
       "[Text(0, 0, '$\\\\mathbf{w}^*_1$'), Text(0, 0, '$\\\\mathbf{w}^*_2$')]"
      ]
     },
     "execution_count": 28,
     "metadata": {},
     "output_type": "execute_result"
    },
    {
     "data": {
      "image/png": "[encoded data removed]",
      "text/plain": [
       "<Figure size 720x216 with 1 Axes>"
      ]
     },
     "metadata": {},
     "output_type": "display_data"
    }
   ],
   "source": [
    "p_mixture_probs = np.array([0.2, 0.8])\n",
    "p_means = np.array([0, 2.5])\n",
    "p_stds = np.array([0.3, 1.5])\n",
    "p = GaussianMixture1D(p_mixture_probs, p_means, p_stds)\n",
    "fig, axs = plt.subplots(nrows=1, ncols=1)\n",
    "fig.set_size_inches(10, 3)\n",
    "\n",
    "xs_min = -4\n",
    "xs_max = 9\n",
    "num_plot_points = 1000\n",
    "xs = np.linspace(xs_min, xs_max, num_plot_points)\n",
    "\n",
    "axs.plot(xs, p.pdf(xs))\n",
    "axs.plot(2*[p_means[0]], [0.0, p.pdf([p_means[0]])], color='lightgray', linestyle='dashed')\n",
    "axs.plot(2*[p_means[1]], [0.0, p.pdf([p_means[1]])], color='lightgray', linestyle='dashed')\n",
    "# axs.plot(2*[p_means[1]], [0.0, p.pdf(p_means[1])])\n",
    "\n",
    "axs.spines['right'].set_visible(False)\n",
    "axs.spines['top'].set_visible(False)\n",
    "axs.spines['bottom'].set_visible(False)\n",
    "axs.spines['left'].set_visible(False)\n",
    "axs.set_yticks([])\n",
    "# axs.set_xticks([0.0, 2.5], ['$x_1$', '$x_2$'])\n",
    "# axs.set_xticklabels(['$x_1$', '$x_2$'])\n",
    "axs.set_xticks([0.0, 2.5])\n",
    "\n",
    "axs.set_xticklabels(['$\\mathbf{w}^*_1$', '$\\mathbf{w}^*_2$'])\n",
    "# fig.xticks(range(2), ['$x_1$', '$x_2$'])\n",
    "# axs.legend(ncol=3, loc='upper center', bbox_to_anchor=(0.5, 0))"
   ]
  },
  {
   "cell_type": "markdown",
   "metadata": {},
   "source": [
    "## Save to file"
   ]
  },
  {
   "cell_type": "code",
   "execution_count": 29,
   "metadata": {},
   "outputs": [
    {
     "name": "stdout",
     "output_type": "stream",
     "text": [
      "Saved to posterior-distribution-example.pdf\n"
     ]
    }
   ],
   "source": [
    "filename = 'posterior-distribution-example.pdf'\n",
    "fig.savefig( '/home/lpcinelli/repos/tese/figures/chap4/'+ filename, bbox_inches='tight', dpi=200)\n",
    "print('Saved to {}'.format(filename))"
   ]
  },
  {
   "cell_type": "code",
   "execution_count": null,
   "metadata": {},
   "outputs": [],
   "source": []
  }
 ],
 "metadata": {
  "kernelspec": {
   "display_name": "Python 3",
   "language": "python",
   "name": "python3"
  },
  "language_info": {
   "codemirror_mode": {
    "name": "ipython",
    "version": 3
   },
   "file_extension": ".py",
   "mimetype": "text/x-python",
   "name": "python",
   "nbconvert_exporter": "python",
   "pygments_lexer": "ipython3",
   "version": "3.7.2"
  }
 },
 "nbformat": 4,
 "nbformat_minor": 2
}
